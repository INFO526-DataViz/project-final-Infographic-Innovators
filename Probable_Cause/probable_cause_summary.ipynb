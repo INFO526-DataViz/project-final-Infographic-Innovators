{
 "cells": [
  {
   "cell_type": "code",
   "execution_count": null,
   "metadata": {},
   "outputs": [],
   "source": [
    "# Use a pipeline as a high-level helper\n",
    "from transformers import pipeline\n",
    "import pandas as pd\n",
    "\n",
    "pipe = pipeline(\"summarization\", model=\"antonkurylo/t5-base-news_headlines_8tokens\")\n",
    "\n",
    "df=pd.read_csv(\"flights_ntsb.csv\")\n",
    "df.dropna(subset=[\"ProbableCause\"],inplace=True)\n",
    "#k=pipe(list(df.ProbableCause[:10]), max_length=5, min_length=3, do_sample=False)\n",
    "cause=pipe(list(df.ProbableCause), max_length=6, min_length=3, do_sample=False)\n",
    "#df.ProbableCause[:10]\n",
    "file_path = \"output.txt\"\n",
    "Probable_Cause=[]\n",
    "# Open the file in write mode and write each value to the file\n",
    "with open(file_path, \"r\") as file:\n",
    "    Probable_Cause=(file.read().split(\"\\n\"))"
   ]
  }
 ],
 "metadata": {
  "language_info": {
   "name": "python"
  }
 },
 "nbformat": 4,
 "nbformat_minor": 2
}
